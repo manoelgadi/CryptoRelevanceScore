{
 "cells": [
  {
   "cell_type": "markdown",
   "metadata": {},
   "source": [
    "# Model Training for Score Relevance"
   ]
  },
  {
   "cell_type": "markdown",
   "metadata": {},
   "source": [
    "## WebScrapping of yahoo News"
   ]
  },
  {
   "cell_type": "code",
   "execution_count": null,
   "metadata": {},
   "outputs": [],
   "source": [
    "#!pip install selenium\n",
    "#!pip install webdriver-manager\n",
    "#!pip install tensorflow-cpu"
   ]
  },
  {
   "cell_type": "code",
   "execution_count": 1,
   "metadata": {},
   "outputs": [],
   "source": [
    "import pandas as pd\n",
    "import numpy as np"
   ]
  },
  {
   "cell_type": "markdown",
   "metadata": {},
   "source": [
    "### WebScrapping Crypto News:"
   ]
  },
  {
   "cell_type": "code",
   "execution_count": 2,
   "metadata": {},
   "outputs": [
    {
     "name": "stdout",
     "output_type": "stream",
     "text": [
      "\n"
     ]
    },
    {
     "name": "stderr",
     "output_type": "stream",
     "text": [
      "[WDM] - ====== WebDriver manager ======\n",
      "[WDM] - Current google-chrome version is 103.0.5060\n",
      "[WDM] - Get LATEST chromedriver version for 103.0.5060 google-chrome\n",
      "[WDM] - There is no [win32] chromedriver for browser 103.0.5060 in cache\n",
      "[WDM] - About to download new driver from https://chromedriver.storage.googleapis.com/103.0.5060.53/chromedriver_win32.zip\n",
      "[WDM] - Driver has been saved in cache [C:\\Users\\Nicolas Ponte\\.wdm\\drivers\\chromedriver\\win32\\103.0.5060.53]\n",
      "<ipython-input-2-bb5a7635a4fe>:6: DeprecationWarning: executable_path has been deprecated, please pass in a Service object\n",
      "  driver = webdriver.Chrome(ChromeDriverManager().install())\n"
     ]
    }
   ],
   "source": [
    "import time\n",
    "from selenium import webdriver\n",
    "from bs4 import BeautifulSoup\n",
    "from webdriver_manager.chrome import ChromeDriverManager\n",
    "\n",
    "driver = webdriver.Chrome(ChromeDriverManager().install())\n",
    "url = 'https://finance.yahoo.com/topic/crypto'\n",
    "driver.get(url)\n",
    "time.sleep(1)\n",
    "\n",
    "time.sleep(2)  # Allow 2 seconds for the web page to open\n",
    "scroll_pause_time = 1 # You can set your own pause time. My laptop is a bit slow so I use 1 sec\n",
    "screen_height = driver.execute_script(\"return window.screen.height;\")   # get the screen height of the web\n",
    "i = 1\n",
    "\n",
    "no_of_pagedowns = 60\n",
    "\n",
    "while no_of_pagedowns:\n",
    "    no_of_pagedowns-=1\n",
    "    # scroll one screen height each time\n",
    "    driver.execute_script(\"window.scrollTo(0, {screen_height}*{i});\".format(screen_height=screen_height, i=i))  \n",
    "    i += 1\n",
    "    time.sleep(scroll_pause_time)\n",
    "    # update scroll height each time after scrolled, as the scroll height can change after we scrolled the page\n",
    "    scroll_height = driver.execute_script(\"return document.body.scrollHeight;\")  \n",
    "\n",
    "##### Extract Reddit URLs #####\n",
    "headlines = []\n",
    "soup = BeautifulSoup(driver.page_source, \"html.parser\")\n",
    "for parent in soup.find_all('h3',{'class':'Mb(5px)'}):\n",
    "    headlines.append(parent.text)"
   ]
  },
  {
   "cell_type": "code",
   "execution_count": 3,
   "metadata": {},
   "outputs": [
    {
     "data": {
      "text/plain": [
       "150"
      ]
     },
     "execution_count": 3,
     "metadata": {},
     "output_type": "execute_result"
    }
   ],
   "source": [
    "len(headlines)"
   ]
  },
  {
   "cell_type": "code",
   "execution_count": 4,
   "metadata": {},
   "outputs": [],
   "source": [
    "df_positive = pd.DataFrame()\n",
    "df_positive['headlines']=headlines\n",
    "df_positive['target']=np.ones(len(headlines))"
   ]
  },
  {
   "cell_type": "code",
   "execution_count": 5,
   "metadata": {},
   "outputs": [
    {
     "data": {
      "text/html": [
       "<div>\n",
       "<style scoped>\n",
       "    .dataframe tbody tr th:only-of-type {\n",
       "        vertical-align: middle;\n",
       "    }\n",
       "\n",
       "    .dataframe tbody tr th {\n",
       "        vertical-align: top;\n",
       "    }\n",
       "\n",
       "    .dataframe thead th {\n",
       "        text-align: right;\n",
       "    }\n",
       "</style>\n",
       "<table border=\"1\" class=\"dataframe\">\n",
       "  <thead>\n",
       "    <tr style=\"text-align: right;\">\n",
       "      <th></th>\n",
       "      <th>headlines</th>\n",
       "      <th>target</th>\n",
       "    </tr>\n",
       "  </thead>\n",
       "  <tbody>\n",
       "    <tr>\n",
       "      <th>0</th>\n",
       "      <td>First Mover Asia: How Inaccurate Data Misled I...</td>\n",
       "      <td>1.0</td>\n",
       "    </tr>\n",
       "    <tr>\n",
       "      <th>1</th>\n",
       "      <td>Crypto Broker Voyager Digital Files for Bankru...</td>\n",
       "      <td>1.0</td>\n",
       "    </tr>\n",
       "    <tr>\n",
       "      <th>2</th>\n",
       "      <td>Daily Crunch: After filing for bankruptcy, cry...</td>\n",
       "      <td>1.0</td>\n",
       "    </tr>\n",
       "    <tr>\n",
       "      <th>3</th>\n",
       "      <td>Ethics Watchdog Bars US Government Employees F...</td>\n",
       "      <td>1.0</td>\n",
       "    </tr>\n",
       "    <tr>\n",
       "      <th>4</th>\n",
       "      <td>Binance elimina comisiones para el trading de ...</td>\n",
       "      <td>1.0</td>\n",
       "    </tr>\n",
       "  </tbody>\n",
       "</table>\n",
       "</div>"
      ],
      "text/plain": [
       "                                           headlines  target\n",
       "0  First Mover Asia: How Inaccurate Data Misled I...     1.0\n",
       "1  Crypto Broker Voyager Digital Files for Bankru...     1.0\n",
       "2  Daily Crunch: After filing for bankruptcy, cry...     1.0\n",
       "3  Ethics Watchdog Bars US Government Employees F...     1.0\n",
       "4  Binance elimina comisiones para el trading de ...     1.0"
      ]
     },
     "execution_count": 5,
     "metadata": {},
     "output_type": "execute_result"
    }
   ],
   "source": [
    "df_positive.head()"
   ]
  },
  {
   "cell_type": "markdown",
   "metadata": {},
   "source": [
    "### Finance Yahoo News"
   ]
  },
  {
   "cell_type": "code",
   "execution_count": 6,
   "metadata": {},
   "outputs": [
    {
     "name": "stdout",
     "output_type": "stream",
     "text": [
      "\n"
     ]
    },
    {
     "name": "stderr",
     "output_type": "stream",
     "text": [
      "[WDM] - ====== WebDriver manager ======\n",
      "[WDM] - Current google-chrome version is 103.0.5060\n",
      "[WDM] - Get LATEST chromedriver version for 103.0.5060 google-chrome\n",
      "[WDM] - Driver [C:\\Users\\Nicolas Ponte\\.wdm\\drivers\\chromedriver\\win32\\103.0.5060.53\\chromedriver.exe] found in cache\n",
      "<ipython-input-6-265553732703>:1: DeprecationWarning: executable_path has been deprecated, please pass in a Service object\n",
      "  driver2 = webdriver.Chrome(ChromeDriverManager().install())\n"
     ]
    }
   ],
   "source": [
    "driver2 = webdriver.Chrome(ChromeDriverManager().install())\n",
    "url = 'https://finance.yahoo.com/'\n",
    "driver2.get(url)\n",
    "time.sleep(1)\n",
    "\n",
    "time.sleep(2)  # Allow 2 seconds for the web page to open\n",
    "scroll_pause_time = 1 # You can set your own pause time. My laptop is a bit slow so I use 1 sec\n",
    "screen_height = driver2.execute_script(\"return window.screen.height;\")   # get the screen height of the web\n",
    "i = 1\n",
    "\n",
    "no_of_pagedowns = 60\n",
    "\n",
    "while no_of_pagedowns:\n",
    "    no_of_pagedowns-=1\n",
    "    # scroll one screen height each time\n",
    "    driver2.execute_script(\"window.scrollTo(0, {screen_height}*{i});\".format(screen_height=screen_height, i=i))  \n",
    "    i += 1\n",
    "    time.sleep(scroll_pause_time)\n",
    "    # update scroll height each time after scrolled, as the scroll height can change after we scrolled the page\n",
    "    scroll_height = driver2.execute_script(\"return document.body.scrollHeight;\")  \n",
    "\n",
    "##### Extract Reddit URLs #####\n",
    "headlines = []\n",
    "soup = BeautifulSoup(driver2.page_source, \"html.parser\")\n",
    "for parent in soup.find_all('h3',{'class':'Mb(5px)'}):\n",
    "    headlines.append(parent.text)"
   ]
  },
  {
   "cell_type": "code",
   "execution_count": 7,
   "metadata": {},
   "outputs": [
    {
     "data": {
      "text/plain": [
       "170"
      ]
     },
     "execution_count": 7,
     "metadata": {},
     "output_type": "execute_result"
    }
   ],
   "source": [
    "len(headlines)"
   ]
  },
  {
   "cell_type": "code",
   "execution_count": 8,
   "metadata": {},
   "outputs": [
    {
     "data": {
      "text/html": [
       "<div>\n",
       "<style scoped>\n",
       "    .dataframe tbody tr th:only-of-type {\n",
       "        vertical-align: middle;\n",
       "    }\n",
       "\n",
       "    .dataframe tbody tr th {\n",
       "        vertical-align: top;\n",
       "    }\n",
       "\n",
       "    .dataframe thead th {\n",
       "        text-align: right;\n",
       "    }\n",
       "</style>\n",
       "<table border=\"1\" class=\"dataframe\">\n",
       "  <thead>\n",
       "    <tr style=\"text-align: right;\">\n",
       "      <th></th>\n",
       "      <th>headlines</th>\n",
       "      <th>target</th>\n",
       "    </tr>\n",
       "  </thead>\n",
       "  <tbody>\n",
       "    <tr>\n",
       "      <th>0</th>\n",
       "      <td>Bill Gates just won legal approval to buy 2,10...</td>\n",
       "      <td>0.0</td>\n",
       "    </tr>\n",
       "    <tr>\n",
       "      <th>1</th>\n",
       "      <td>Car quality is slipping: These are the brands ...</td>\n",
       "      <td>0.0</td>\n",
       "    </tr>\n",
       "    <tr>\n",
       "      <th>2</th>\n",
       "      <td>Don't be duped by doomsayers, JPMorgan says — ...</td>\n",
       "      <td>0.0</td>\n",
       "    </tr>\n",
       "    <tr>\n",
       "      <th>3</th>\n",
       "      <td>Russia Targets Europe With a Commodity Weapon:...</td>\n",
       "      <td>0.0</td>\n",
       "    </tr>\n",
       "    <tr>\n",
       "      <th>4</th>\n",
       "      <td>Here’s how far house prices are set to fall as...</td>\n",
       "      <td>0.0</td>\n",
       "    </tr>\n",
       "  </tbody>\n",
       "</table>\n",
       "</div>"
      ],
      "text/plain": [
       "                                           headlines  target\n",
       "0  Bill Gates just won legal approval to buy 2,10...     0.0\n",
       "1  Car quality is slipping: These are the brands ...     0.0\n",
       "2  Don't be duped by doomsayers, JPMorgan says — ...     0.0\n",
       "3  Russia Targets Europe With a Commodity Weapon:...     0.0\n",
       "4  Here’s how far house prices are set to fall as...     0.0"
      ]
     },
     "execution_count": 8,
     "metadata": {},
     "output_type": "execute_result"
    }
   ],
   "source": [
    "df_negative = pd.DataFrame()\n",
    "df_negative['headlines']=headlines\n",
    "df_negative['target']=np.zeros(len(headlines))\n",
    "df_negative.head()"
   ]
  },
  {
   "cell_type": "markdown",
   "metadata": {},
   "source": [
    "### General Yahoo News"
   ]
  },
  {
   "cell_type": "code",
   "execution_count": 9,
   "metadata": {},
   "outputs": [
    {
     "name": "stdout",
     "output_type": "stream",
     "text": [
      "\n"
     ]
    },
    {
     "name": "stderr",
     "output_type": "stream",
     "text": [
      "[WDM] - ====== WebDriver manager ======\n",
      "[WDM] - Current google-chrome version is 103.0.5060\n",
      "[WDM] - Get LATEST chromedriver version for 103.0.5060 google-chrome\n",
      "[WDM] - Driver [C:\\Users\\Nicolas Ponte\\.wdm\\drivers\\chromedriver\\win32\\103.0.5060.53\\chromedriver.exe] found in cache\n",
      "<ipython-input-9-7abbe664940b>:1: DeprecationWarning: executable_path has been deprecated, please pass in a Service object\n",
      "  driver3 = webdriver.Chrome(ChromeDriverManager().install())\n"
     ]
    }
   ],
   "source": [
    "driver3 = webdriver.Chrome(ChromeDriverManager().install())\n",
    "url = 'https://news.yahoo.com/'\n",
    "driver3.get(url)\n",
    "\n",
    "time.sleep(2)  # Allow 2 seconds for the web page to open\n",
    "scroll_pause_time = 1 # You can set your own pause time. My laptop is a bit slow so I use 1 sec\n",
    "screen_height = driver3.execute_script(\"return window.screen.height;\")   # get the screen height of the web\n",
    "i = 1\n",
    "\n",
    "no_of_pagedowns = 60\n",
    "\n",
    "while no_of_pagedowns:\n",
    "    no_of_pagedowns-=1\n",
    "    # scroll one screen height each time\n",
    "    driver3.execute_script(\"window.scrollTo(0, {screen_height}*{i});\".format(screen_height=screen_height, i=i))  \n",
    "    i += 1\n",
    "    time.sleep(scroll_pause_time)\n",
    "    # update scroll height each time after scrolled, as the scroll height can change after we scrolled the page\n",
    "    scroll_height = driver3.execute_script(\"return document.body.scrollHeight;\")  \n",
    "\n",
    "##### Extract Reddit URLs #####\n",
    "headlines = []\n",
    "soup = BeautifulSoup(driver3.page_source, \"html.parser\")\n",
    "for parent in soup.find_all('h3',{'class':'Mb(5px)'}):\n",
    "    headlines.append(parent.text)"
   ]
  },
  {
   "cell_type": "code",
   "execution_count": 10,
   "metadata": {},
   "outputs": [
    {
     "data": {
      "text/plain": [
       "170"
      ]
     },
     "execution_count": 10,
     "metadata": {},
     "output_type": "execute_result"
    }
   ],
   "source": [
    "len(headlines)"
   ]
  },
  {
   "cell_type": "code",
   "execution_count": 11,
   "metadata": {},
   "outputs": [
    {
     "data": {
      "text/html": [
       "<div>\n",
       "<style scoped>\n",
       "    .dataframe tbody tr th:only-of-type {\n",
       "        vertical-align: middle;\n",
       "    }\n",
       "\n",
       "    .dataframe tbody tr th {\n",
       "        vertical-align: top;\n",
       "    }\n",
       "\n",
       "    .dataframe thead th {\n",
       "        text-align: right;\n",
       "    }\n",
       "</style>\n",
       "<table border=\"1\" class=\"dataframe\">\n",
       "  <thead>\n",
       "    <tr style=\"text-align: right;\">\n",
       "      <th></th>\n",
       "      <th>headlines</th>\n",
       "      <th>target</th>\n",
       "    </tr>\n",
       "  </thead>\n",
       "  <tbody>\n",
       "    <tr>\n",
       "      <th>0</th>\n",
       "      <td>Biologists' fears confirmed on the lower Color...</td>\n",
       "      <td>0.0</td>\n",
       "    </tr>\n",
       "    <tr>\n",
       "      <th>1</th>\n",
       "      <td>Family of Parade Suspect’s Only Friend: ‘It Bl...</td>\n",
       "      <td>0.0</td>\n",
       "    </tr>\n",
       "    <tr>\n",
       "      <th>2</th>\n",
       "      <td>YouTuber gets scam ring in India arrested afte...</td>\n",
       "      <td>0.0</td>\n",
       "    </tr>\n",
       "    <tr>\n",
       "      <th>3</th>\n",
       "      <td>Only one thing will send gas prices back below...</td>\n",
       "      <td>0.0</td>\n",
       "    </tr>\n",
       "    <tr>\n",
       "      <th>4</th>\n",
       "      <td>Woman captures moment lightning strikes her hu...</td>\n",
       "      <td>0.0</td>\n",
       "    </tr>\n",
       "  </tbody>\n",
       "</table>\n",
       "</div>"
      ],
      "text/plain": [
       "                                           headlines  target\n",
       "0  Biologists' fears confirmed on the lower Color...     0.0\n",
       "1  Family of Parade Suspect’s Only Friend: ‘It Bl...     0.0\n",
       "2  YouTuber gets scam ring in India arrested afte...     0.0\n",
       "3  Only one thing will send gas prices back below...     0.0\n",
       "4  Woman captures moment lightning strikes her hu...     0.0"
      ]
     },
     "execution_count": 11,
     "metadata": {},
     "output_type": "execute_result"
    }
   ],
   "source": [
    "df_negative2 = pd.DataFrame()\n",
    "df_negative2['headlines']=headlines\n",
    "df_negative2['target']=np.zeros(len(headlines))\n",
    "df_negative2.head()"
   ]
  },
  {
   "cell_type": "markdown",
   "metadata": {},
   "source": [
    "### Creating a Single DataFrame of all the scrapped news"
   ]
  },
  {
   "cell_type": "code",
   "execution_count": 12,
   "metadata": {},
   "outputs": [],
   "source": [
    "df_total = df_positive.append(df_negative, ignore_index=True)"
   ]
  },
  {
   "cell_type": "code",
   "execution_count": 13,
   "metadata": {},
   "outputs": [],
   "source": [
    "df_complete = df_total.append(df_negative2, ignore_index=True)"
   ]
  },
  {
   "cell_type": "code",
   "execution_count": 14,
   "metadata": {},
   "outputs": [
    {
     "data": {
      "text/html": [
       "<div>\n",
       "<style scoped>\n",
       "    .dataframe tbody tr th:only-of-type {\n",
       "        vertical-align: middle;\n",
       "    }\n",
       "\n",
       "    .dataframe tbody tr th {\n",
       "        vertical-align: top;\n",
       "    }\n",
       "\n",
       "    .dataframe thead th {\n",
       "        text-align: right;\n",
       "    }\n",
       "</style>\n",
       "<table border=\"1\" class=\"dataframe\">\n",
       "  <thead>\n",
       "    <tr style=\"text-align: right;\">\n",
       "      <th></th>\n",
       "      <th>headlines</th>\n",
       "      <th>target</th>\n",
       "    </tr>\n",
       "  </thead>\n",
       "  <tbody>\n",
       "    <tr>\n",
       "      <th>0</th>\n",
       "      <td>First Mover Asia: How Inaccurate Data Misled I...</td>\n",
       "      <td>1.0</td>\n",
       "    </tr>\n",
       "    <tr>\n",
       "      <th>1</th>\n",
       "      <td>Crypto Broker Voyager Digital Files for Bankru...</td>\n",
       "      <td>1.0</td>\n",
       "    </tr>\n",
       "    <tr>\n",
       "      <th>2</th>\n",
       "      <td>Daily Crunch: After filing for bankruptcy, cry...</td>\n",
       "      <td>1.0</td>\n",
       "    </tr>\n",
       "    <tr>\n",
       "      <th>3</th>\n",
       "      <td>Ethics Watchdog Bars US Government Employees F...</td>\n",
       "      <td>1.0</td>\n",
       "    </tr>\n",
       "    <tr>\n",
       "      <th>4</th>\n",
       "      <td>Binance elimina comisiones para el trading de ...</td>\n",
       "      <td>1.0</td>\n",
       "    </tr>\n",
       "    <tr>\n",
       "      <th>...</th>\n",
       "      <td>...</td>\n",
       "      <td>...</td>\n",
       "    </tr>\n",
       "    <tr>\n",
       "      <th>485</th>\n",
       "      <td>Israel says Iran military build up in Red Sea ...</td>\n",
       "      <td>0.0</td>\n",
       "    </tr>\n",
       "    <tr>\n",
       "      <th>486</th>\n",
       "      <td>Woman attacked by coyote in parking lot of res...</td>\n",
       "      <td>0.0</td>\n",
       "    </tr>\n",
       "    <tr>\n",
       "      <th>487</th>\n",
       "      <td>Putin’s Lies Have Kremlin TV Flailing and Figh...</td>\n",
       "      <td>0.0</td>\n",
       "    </tr>\n",
       "    <tr>\n",
       "      <th>488</th>\n",
       "      <td>U.S. F-35 fighters arrive in South Korea as jo...</td>\n",
       "      <td>0.0</td>\n",
       "    </tr>\n",
       "    <tr>\n",
       "      <th>489</th>\n",
       "      <td>Jennifer Weisselberg is set to testify in a tr...</td>\n",
       "      <td>0.0</td>\n",
       "    </tr>\n",
       "  </tbody>\n",
       "</table>\n",
       "<p>490 rows × 2 columns</p>\n",
       "</div>"
      ],
      "text/plain": [
       "                                             headlines  target\n",
       "0    First Mover Asia: How Inaccurate Data Misled I...     1.0\n",
       "1    Crypto Broker Voyager Digital Files for Bankru...     1.0\n",
       "2    Daily Crunch: After filing for bankruptcy, cry...     1.0\n",
       "3    Ethics Watchdog Bars US Government Employees F...     1.0\n",
       "4    Binance elimina comisiones para el trading de ...     1.0\n",
       "..                                                 ...     ...\n",
       "485  Israel says Iran military build up in Red Sea ...     0.0\n",
       "486  Woman attacked by coyote in parking lot of res...     0.0\n",
       "487  Putin’s Lies Have Kremlin TV Flailing and Figh...     0.0\n",
       "488  U.S. F-35 fighters arrive in South Korea as jo...     0.0\n",
       "489  Jennifer Weisselberg is set to testify in a tr...     0.0\n",
       "\n",
       "[490 rows x 2 columns]"
      ]
     },
     "execution_count": 14,
     "metadata": {},
     "output_type": "execute_result"
    }
   ],
   "source": [
    "df_complete"
   ]
  },
  {
   "cell_type": "code",
   "execution_count": 15,
   "metadata": {},
   "outputs": [],
   "source": [
    "#We may find duplicate news in the general ones, that belongs to Crypto World.\n",
    "#Therefore, I am keeping it as target=1 -> Include.\n",
    "df_complete.drop_duplicates(subset='headlines',keep='first',inplace=True,ignore_index=True)"
   ]
  },
  {
   "cell_type": "code",
   "execution_count": 16,
   "metadata": {},
   "outputs": [
    {
     "data": {
      "text/html": [
       "<div>\n",
       "<style scoped>\n",
       "    .dataframe tbody tr th:only-of-type {\n",
       "        vertical-align: middle;\n",
       "    }\n",
       "\n",
       "    .dataframe tbody tr th {\n",
       "        vertical-align: top;\n",
       "    }\n",
       "\n",
       "    .dataframe thead th {\n",
       "        text-align: right;\n",
       "    }\n",
       "</style>\n",
       "<table border=\"1\" class=\"dataframe\">\n",
       "  <thead>\n",
       "    <tr style=\"text-align: right;\">\n",
       "      <th></th>\n",
       "      <th>headlines</th>\n",
       "      <th>target</th>\n",
       "    </tr>\n",
       "  </thead>\n",
       "  <tbody>\n",
       "    <tr>\n",
       "      <th>0</th>\n",
       "      <td>First Mover Asia: How Inaccurate Data Misled I...</td>\n",
       "      <td>1.0</td>\n",
       "    </tr>\n",
       "    <tr>\n",
       "      <th>1</th>\n",
       "      <td>Crypto Broker Voyager Digital Files for Bankru...</td>\n",
       "      <td>1.0</td>\n",
       "    </tr>\n",
       "    <tr>\n",
       "      <th>2</th>\n",
       "      <td>Daily Crunch: After filing for bankruptcy, cry...</td>\n",
       "      <td>1.0</td>\n",
       "    </tr>\n",
       "    <tr>\n",
       "      <th>3</th>\n",
       "      <td>Ethics Watchdog Bars US Government Employees F...</td>\n",
       "      <td>1.0</td>\n",
       "    </tr>\n",
       "    <tr>\n",
       "      <th>4</th>\n",
       "      <td>Binance elimina comisiones para el trading de ...</td>\n",
       "      <td>1.0</td>\n",
       "    </tr>\n",
       "    <tr>\n",
       "      <th>...</th>\n",
       "      <td>...</td>\n",
       "      <td>...</td>\n",
       "    </tr>\n",
       "    <tr>\n",
       "      <th>465</th>\n",
       "      <td>Israel says Iran military build up in Red Sea ...</td>\n",
       "      <td>0.0</td>\n",
       "    </tr>\n",
       "    <tr>\n",
       "      <th>466</th>\n",
       "      <td>Woman attacked by coyote in parking lot of res...</td>\n",
       "      <td>0.0</td>\n",
       "    </tr>\n",
       "    <tr>\n",
       "      <th>467</th>\n",
       "      <td>Putin’s Lies Have Kremlin TV Flailing and Figh...</td>\n",
       "      <td>0.0</td>\n",
       "    </tr>\n",
       "    <tr>\n",
       "      <th>468</th>\n",
       "      <td>U.S. F-35 fighters arrive in South Korea as jo...</td>\n",
       "      <td>0.0</td>\n",
       "    </tr>\n",
       "    <tr>\n",
       "      <th>469</th>\n",
       "      <td>Jennifer Weisselberg is set to testify in a tr...</td>\n",
       "      <td>0.0</td>\n",
       "    </tr>\n",
       "  </tbody>\n",
       "</table>\n",
       "<p>470 rows × 2 columns</p>\n",
       "</div>"
      ],
      "text/plain": [
       "                                             headlines  target\n",
       "0    First Mover Asia: How Inaccurate Data Misled I...     1.0\n",
       "1    Crypto Broker Voyager Digital Files for Bankru...     1.0\n",
       "2    Daily Crunch: After filing for bankruptcy, cry...     1.0\n",
       "3    Ethics Watchdog Bars US Government Employees F...     1.0\n",
       "4    Binance elimina comisiones para el trading de ...     1.0\n",
       "..                                                 ...     ...\n",
       "465  Israel says Iran military build up in Red Sea ...     0.0\n",
       "466  Woman attacked by coyote in parking lot of res...     0.0\n",
       "467  Putin’s Lies Have Kremlin TV Flailing and Figh...     0.0\n",
       "468  U.S. F-35 fighters arrive in South Korea as jo...     0.0\n",
       "469  Jennifer Weisselberg is set to testify in a tr...     0.0\n",
       "\n",
       "[470 rows x 2 columns]"
      ]
     },
     "execution_count": 16,
     "metadata": {},
     "output_type": "execute_result"
    }
   ],
   "source": [
    "df_complete"
   ]
  },
  {
   "cell_type": "markdown",
   "metadata": {},
   "source": [
    "### Merging with the previous news"
   ]
  },
  {
   "cell_type": "code",
   "execution_count": 2,
   "metadata": {},
   "outputs": [],
   "source": [
    "df_rep = pd.read_csv('crypto_relevancescore_from_yahoofinance.csv')"
   ]
  },
  {
   "cell_type": "code",
   "execution_count": 3,
   "metadata": {},
   "outputs": [
    {
     "data": {
      "text/html": [
       "<div>\n",
       "<style scoped>\n",
       "    .dataframe tbody tr th:only-of-type {\n",
       "        vertical-align: middle;\n",
       "    }\n",
       "\n",
       "    .dataframe tbody tr th {\n",
       "        vertical-align: top;\n",
       "    }\n",
       "\n",
       "    .dataframe thead th {\n",
       "        text-align: right;\n",
       "    }\n",
       "</style>\n",
       "<table border=\"1\" class=\"dataframe\">\n",
       "  <thead>\n",
       "    <tr style=\"text-align: right;\">\n",
       "      <th></th>\n",
       "      <th>Unnamed: 0</th>\n",
       "      <th>Unnamed: 0.1</th>\n",
       "      <th>headlines</th>\n",
       "      <th>target</th>\n",
       "    </tr>\n",
       "  </thead>\n",
       "  <tbody>\n",
       "    <tr>\n",
       "      <th>0</th>\n",
       "      <td>0</td>\n",
       "      <td>0.0</td>\n",
       "      <td>‘Obviously I don’t think women are any less in...</td>\n",
       "      <td>1.0</td>\n",
       "    </tr>\n",
       "    <tr>\n",
       "      <th>1</th>\n",
       "      <td>1</td>\n",
       "      <td>1.0</td>\n",
       "      <td>Layoffs hit crypto and real estate tech partic...</td>\n",
       "      <td>1.0</td>\n",
       "    </tr>\n",
       "    <tr>\n",
       "      <th>2</th>\n",
       "      <td>2</td>\n",
       "      <td>2.0</td>\n",
       "      <td>A brief recap of one of the worst weeks in cry...</td>\n",
       "      <td>1.0</td>\n",
       "    </tr>\n",
       "    <tr>\n",
       "      <th>3</th>\n",
       "      <td>3</td>\n",
       "      <td>3.0</td>\n",
       "      <td>Wells Fargo economist likens crypto collapse t...</td>\n",
       "      <td>1.0</td>\n",
       "    </tr>\n",
       "    <tr>\n",
       "      <th>4</th>\n",
       "      <td>4</td>\n",
       "      <td>4.0</td>\n",
       "      <td>Crypto's Excruciating Week Has Traders Bracing...</td>\n",
       "      <td>1.0</td>\n",
       "    </tr>\n",
       "  </tbody>\n",
       "</table>\n",
       "</div>"
      ],
      "text/plain": [
       "   Unnamed: 0  Unnamed: 0.1  \\\n",
       "0           0           0.0   \n",
       "1           1           1.0   \n",
       "2           2           2.0   \n",
       "3           3           3.0   \n",
       "4           4           4.0   \n",
       "\n",
       "                                           headlines  target  \n",
       "0  ‘Obviously I don’t think women are any less in...     1.0  \n",
       "1  Layoffs hit crypto and real estate tech partic...     1.0  \n",
       "2  A brief recap of one of the worst weeks in cry...     1.0  \n",
       "3  Wells Fargo economist likens crypto collapse t...     1.0  \n",
       "4  Crypto's Excruciating Week Has Traders Bracing...     1.0  "
      ]
     },
     "execution_count": 3,
     "metadata": {},
     "output_type": "execute_result"
    }
   ],
   "source": [
    "df_rep.head()"
   ]
  },
  {
   "cell_type": "code",
   "execution_count": 5,
   "metadata": {},
   "outputs": [],
   "source": [
    "#Now we append the newest news with the repository\n",
    "final_df = df_rep.append(df_complete, ignore_index=True)"
   ]
  },
  {
   "cell_type": "code",
   "execution_count": 6,
   "metadata": {},
   "outputs": [
    {
     "data": {
      "text/plain": [
       "(1733, 4)"
      ]
     },
     "execution_count": 6,
     "metadata": {},
     "output_type": "execute_result"
    }
   ],
   "source": [
    "final_df.shape"
   ]
  },
  {
   "cell_type": "code",
   "execution_count": 7,
   "metadata": {},
   "outputs": [],
   "source": [
    "#We may find duplicate news in the general ones, that belongs to Crypto World.\n",
    "#Therefore, I am keeping it as target=1 -> Include.\n",
    "final_df.drop_duplicates(subset='headlines',keep='first',inplace=True,ignore_index=True)"
   ]
  },
  {
   "cell_type": "code",
   "execution_count": 8,
   "metadata": {},
   "outputs": [
    {
     "data": {
      "text/plain": [
       "(1733, 4)"
      ]
     },
     "execution_count": 8,
     "metadata": {},
     "output_type": "execute_result"
    }
   ],
   "source": [
    "final_df.shape"
   ]
  },
  {
   "cell_type": "code",
   "execution_count": 9,
   "metadata": {},
   "outputs": [],
   "source": [
    "#Override the repositort file:\n",
    "final_df['id'] = df.index\n",
    "final_df[['id','headlines','target']].to_csv('crypto_relevancescore_from_yahoofinance.csv',index=False)"
   ]
  },
  {
   "cell_type": "markdown",
   "metadata": {},
   "source": [
    "## BERT Model as Baseline"
   ]
  },
  {
   "cell_type": "code",
   "execution_count": 10,
   "metadata": {},
   "outputs": [],
   "source": [
    "from sklearn.model_selection import train_test_split\n",
    "from sklearn.metrics import accuracy_score"
   ]
  },
  {
   "cell_type": "code",
   "execution_count": 11,
   "metadata": {},
   "outputs": [
    {
     "data": {
      "text/plain": [
       "1213    Biden, Chevron chief trade sharp words over ga...\n",
       "1555    FOREX-Euro slumps to two-decade low as recessi...\n",
       "511     Solana NFT Marketplace Magic Eden Raises $130M...\n",
       "1619    From greens to alcohol: 9 best and worst foods...\n",
       "Name: headlines, dtype: object"
      ]
     },
     "execution_count": 11,
     "metadata": {},
     "output_type": "execute_result"
    }
   ],
   "source": [
    "from sklearn.model_selection import train_test_split\n",
    "X_train, X_test, y_train, y_test = train_test_split(final_df['headlines'],final_df['target'], stratify=final_df['target'])\n",
    "X_train.head(4)"
   ]
  },
  {
   "cell_type": "code",
   "execution_count": 14,
   "metadata": {},
   "outputs": [],
   "source": [
    "#!pip install tensorflow-text\n",
    "import tensorflow as tf\n",
    "import tensorflow_hub as hub\n",
    "import tensorflow_text as text"
   ]
  },
  {
   "cell_type": "code",
   "execution_count": 27,
   "metadata": {},
   "outputs": [],
   "source": [
    "bert_preprocess = hub.KerasLayer(\"https://tfhub.dev/tensorflow/bert_en_uncased_preprocess/3\")\n",
    "bert_encoder = hub.KerasLayer(\"https://tfhub.dev/tensorflow/bert_en_uncased_L-12_H-768_A-12/4\")"
   ]
  },
  {
   "cell_type": "code",
   "execution_count": 28,
   "metadata": {},
   "outputs": [],
   "source": [
    "#Building BERT layers\n",
    "text_input = tf.keras.layers.Input(shape=(), dtype=tf.string, name='text')\n",
    "preprocessed_text = bert_preprocess(text_input)\n",
    "outputs = bert_encoder(preprocessed_text)\n",
    "# Neural network layers\n",
    "l = tf.keras.layers.Dropout(0.2, name=\"dropout\")(outputs['pooled_output'])\n",
    "l = tf.keras.layers.Dense(1, activation='sigmoid', name=\"output\")(l)\n",
    "# Use inputs and outputs to construct a final model\n",
    "model = tf.keras.Model(inputs=[text_input], outputs = [l])"
   ]
  },
  {
   "cell_type": "code",
   "execution_count": 56,
   "metadata": {},
   "outputs": [],
   "source": [
    "#Fitting the model with our specific input data:\n",
    "model.compile(optimizer='adam', loss='binary_crossentropy', metrics=['accuracy'])\n",
    "model.fit(X_train, y_train, epochs=10, batch_size = 32)"
   ]
  },
  {
   "cell_type": "code",
   "execution_count": null,
   "metadata": {},
   "outputs": [],
   "source": [
    "y_predicted = model.predict(X_test)\n",
    "y_predicted = y_predicted.flatten()\n",
    "print(y_predicted)"
   ]
  },
  {
   "cell_type": "code",
   "execution_count": null,
   "metadata": {},
   "outputs": [],
   "source": [
    "import numpy as np\n",
    "y_pred = np.round(y_predicted)"
   ]
  },
  {
   "cell_type": "code",
   "execution_count": null,
   "metadata": {},
   "outputs": [],
   "source": [
    "#Base-line accuracy:\n",
    "accuracy_score(y_test, y_pred)"
   ]
  },
  {
   "cell_type": "code",
   "execution_count": null,
   "metadata": {},
   "outputs": [],
   "source": [
    "#We are not using this model in production:\n",
    "\n",
    "\"\"\"\n",
    "#Saving the Model for using @Flask:\n",
    "import pickle\n",
    "pickle.dump(model, open('Relevance_Score_Model.sav', 'wb'))\n",
    "\n",
    "!pip install pyyaml h5py\n",
    "save_dir = r\"C:\\Users\\Nicolas Ponte\\Desktop\\IE\\RiskAnalytics\\Final Project\"\n",
    "#Save model\n",
    "model.save(save_dir)\n",
    "model.save('my_model.tf')\n",
    "\"\"\""
   ]
  },
  {
   "cell_type": "markdown",
   "metadata": {},
   "source": [
    "## Training a simple model "
   ]
  },
  {
   "cell_type": "code",
   "execution_count": 15,
   "metadata": {},
   "outputs": [],
   "source": [
    "import seaborn as sns\n",
    "from nltk.stem import *\n",
    "from nltk.corpus import stopwords\n",
    "from sklearn.feature_extraction.text import CountVectorizer\n",
    "from sklearn.model_selection import train_test_split\n",
    "import matplotlib.pyplot as plt\n",
    "from sklearn.feature_extraction.text import TfidfVectorizer\n",
    "from sklearn.naive_bayes import MultinomialNB\n",
    "from sklearn.pipeline import make_pipeline\n",
    "from sklearn.metrics import f1_score\n",
    "from sklearn.metrics import recall_score\n",
    "from sklearn.metrics import precision_score\n",
    "from sklearn.metrics import roc_auc_score\n",
    "from sklearn.metrics import confusion_matrix\n",
    "from sklearn.metrics import accuracy_score\n",
    "import nltk\n",
    "from nltk.corpus import stopwords\n",
    "import re"
   ]
  },
  {
   "cell_type": "code",
   "execution_count": 16,
   "metadata": {},
   "outputs": [],
   "source": [
    "final_df = pd.read_csv('crypto_relevancescore_from_yahoofinance.csv')"
   ]
  },
  {
   "cell_type": "code",
   "execution_count": 17,
   "metadata": {},
   "outputs": [
    {
     "data": {
      "text/html": [
       "<div>\n",
       "<style scoped>\n",
       "    .dataframe tbody tr th:only-of-type {\n",
       "        vertical-align: middle;\n",
       "    }\n",
       "\n",
       "    .dataframe tbody tr th {\n",
       "        vertical-align: top;\n",
       "    }\n",
       "\n",
       "    .dataframe thead th {\n",
       "        text-align: right;\n",
       "    }\n",
       "</style>\n",
       "<table border=\"1\" class=\"dataframe\">\n",
       "  <thead>\n",
       "    <tr style=\"text-align: right;\">\n",
       "      <th></th>\n",
       "      <th>Unnamed: 0</th>\n",
       "      <th>Unnamed: 0.1</th>\n",
       "      <th>Unnamed: 0.1.1</th>\n",
       "      <th>headlines</th>\n",
       "      <th>target</th>\n",
       "    </tr>\n",
       "  </thead>\n",
       "  <tbody>\n",
       "    <tr>\n",
       "      <th>0</th>\n",
       "      <td>0</td>\n",
       "      <td>0</td>\n",
       "      <td>0.0</td>\n",
       "      <td>‘Obviously I don’t think women are any less in...</td>\n",
       "      <td>1.0</td>\n",
       "    </tr>\n",
       "    <tr>\n",
       "      <th>1</th>\n",
       "      <td>1</td>\n",
       "      <td>1</td>\n",
       "      <td>1.0</td>\n",
       "      <td>Layoffs hit crypto and real estate tech partic...</td>\n",
       "      <td>1.0</td>\n",
       "    </tr>\n",
       "    <tr>\n",
       "      <th>2</th>\n",
       "      <td>2</td>\n",
       "      <td>2</td>\n",
       "      <td>2.0</td>\n",
       "      <td>A brief recap of one of the worst weeks in cry...</td>\n",
       "      <td>1.0</td>\n",
       "    </tr>\n",
       "    <tr>\n",
       "      <th>3</th>\n",
       "      <td>3</td>\n",
       "      <td>3</td>\n",
       "      <td>3.0</td>\n",
       "      <td>Wells Fargo economist likens crypto collapse t...</td>\n",
       "      <td>1.0</td>\n",
       "    </tr>\n",
       "    <tr>\n",
       "      <th>4</th>\n",
       "      <td>4</td>\n",
       "      <td>4</td>\n",
       "      <td>4.0</td>\n",
       "      <td>Crypto's Excruciating Week Has Traders Bracing...</td>\n",
       "      <td>1.0</td>\n",
       "    </tr>\n",
       "  </tbody>\n",
       "</table>\n",
       "</div>"
      ],
      "text/plain": [
       "   Unnamed: 0  Unnamed: 0.1  Unnamed: 0.1.1  \\\n",
       "0           0             0             0.0   \n",
       "1           1             1             1.0   \n",
       "2           2             2             2.0   \n",
       "3           3             3             3.0   \n",
       "4           4             4             4.0   \n",
       "\n",
       "                                           headlines  target  \n",
       "0  ‘Obviously I don’t think women are any less in...     1.0  \n",
       "1  Layoffs hit crypto and real estate tech partic...     1.0  \n",
       "2  A brief recap of one of the worst weeks in cry...     1.0  \n",
       "3  Wells Fargo economist likens crypto collapse t...     1.0  \n",
       "4  Crypto's Excruciating Week Has Traders Bracing...     1.0  "
      ]
     },
     "execution_count": 17,
     "metadata": {},
     "output_type": "execute_result"
    }
   ],
   "source": [
    "final_df.head()"
   ]
  },
  {
   "cell_type": "code",
   "execution_count": 18,
   "metadata": {},
   "outputs": [
    {
     "data": {
      "text/plain": [
       "0.0    1187\n",
       "1.0     546\n",
       "Name: target, dtype: int64"
      ]
     },
     "execution_count": 18,
     "metadata": {},
     "output_type": "execute_result"
    }
   ],
   "source": [
    "final_df['target'].value_counts()"
   ]
  },
  {
   "cell_type": "code",
   "execution_count": 19,
   "metadata": {},
   "outputs": [],
   "source": [
    "#final_df.drop(['Unnamed: 0'],axis=1,inplace=True)"
   ]
  },
  {
   "cell_type": "code",
   "execution_count": 20,
   "metadata": {},
   "outputs": [
    {
     "data": {
      "text/plain": [
       "528    European Crypto Unicorn Bitpanda Is Now Regula...\n",
       "939    Bitcoin (BTC) Hit Reverse in Response to Fed C...\n",
       "792    Korean former Navy SEAL Ken Rhee shares video ...\n",
       "205    Oil slumps 6% to four-week low on recession wo...\n",
       "Name: headlines, dtype: object"
      ]
     },
     "execution_count": 20,
     "metadata": {},
     "output_type": "execute_result"
    }
   ],
   "source": [
    "X_train, X_test, y_train, y_test = train_test_split(final_df['headlines'],final_df['target'], stratify=final_df['target'])\n",
    "X_train.head(4)"
   ]
  },
  {
   "cell_type": "code",
   "execution_count": 22,
   "metadata": {},
   "outputs": [],
   "source": [
    "# Building a Naive Bayes Classifier\n",
    "model = make_pipeline(TfidfVectorizer(), MultinomialNB())"
   ]
  },
  {
   "cell_type": "code",
   "execution_count": 23,
   "metadata": {},
   "outputs": [
    {
     "data": {
      "text/plain": [
       "Pipeline(steps=[('tfidfvectorizer', TfidfVectorizer()),\n",
       "                ('multinomialnb', MultinomialNB())])"
      ]
     },
     "execution_count": 23,
     "metadata": {},
     "output_type": "execute_result"
    }
   ],
   "source": [
    "model.fit(X_train,y_train)"
   ]
  },
  {
   "cell_type": "code",
   "execution_count": 24,
   "metadata": {},
   "outputs": [],
   "source": [
    "y_pred = model.predict(X_test)\n",
    "score_pred = model.predict_proba(X_test)[:,1]"
   ]
  },
  {
   "cell_type": "code",
   "execution_count": 25,
   "metadata": {},
   "outputs": [
    {
     "data": {
      "text/plain": [
       "0.8847926267281107"
      ]
     },
     "execution_count": 25,
     "metadata": {},
     "output_type": "execute_result"
    }
   ],
   "source": [
    "accuracy_score(y_test, y_pred)"
   ]
  },
  {
   "cell_type": "markdown",
   "metadata": {},
   "source": [
    "Let's apply some techniques to enhance the result:\n",
    "- all lowercase\n",
    "- removal of points\n",
    "- removal of stopwords\n",
    "- lemmatization"
   ]
  },
  {
   "cell_type": "markdown",
   "metadata": {},
   "source": [
    "#### Testing the first 3 techniques "
   ]
  },
  {
   "cell_type": "code",
   "execution_count": 26,
   "metadata": {},
   "outputs": [],
   "source": [
    "final_df['headlines'] = final_df['headlines'].map(lambda x: x.lower())"
   ]
  },
  {
   "cell_type": "code",
   "execution_count": 27,
   "metadata": {},
   "outputs": [],
   "source": [
    "final_df['headlines'] = final_df['headlines'].map(lambda x: re.sub('[^A-Za-z0-9]+', ' ', x))"
   ]
  },
  {
   "cell_type": "code",
   "execution_count": 28,
   "metadata": {},
   "outputs": [
    {
     "name": "stderr",
     "output_type": "stream",
     "text": [
      "[nltk_data] Downloading package stopwords to C:\\Users\\Nicolas\n",
      "[nltk_data]     Ponte\\AppData\\Roaming\\nltk_data...\n",
      "[nltk_data]   Package stopwords is already up-to-date!\n"
     ]
    }
   ],
   "source": [
    "nltk.download('stopwords')\n",
    "english_stop_words = stopwords.words('english')"
   ]
  },
  {
   "cell_type": "code",
   "execution_count": 29,
   "metadata": {},
   "outputs": [],
   "source": [
    "def remove_stop_words(corpus):\n",
    "    removed_stop_words = []\n",
    "    for review in corpus:\n",
    "        removed_stop_words.append(\n",
    "            ' '.join([word for word in review.split() \n",
    "                      if word not in english_stop_words])\n",
    "        )\n",
    "    return removed_stop_words"
   ]
  },
  {
   "cell_type": "code",
   "execution_count": 30,
   "metadata": {},
   "outputs": [],
   "source": [
    "final_df['titles'] = remove_stop_words(final_df['headlines'])"
   ]
  },
  {
   "cell_type": "code",
   "execution_count": 31,
   "metadata": {},
   "outputs": [
    {
     "data": {
      "text/plain": [
       "86                      crypto lender celsius overheated\n",
       "361    71 year old occasional churchgoer opens fire a...\n",
       "135                    bitcoin stays 21k fed hikes rates\n",
       "659      stock shows market leadership jump 91 rs rating\n",
       "Name: titles, dtype: object"
      ]
     },
     "execution_count": 31,
     "metadata": {},
     "output_type": "execute_result"
    }
   ],
   "source": [
    "X_train, X_test, y_train, y_test = train_test_split(final_df['titles'],final_df['target'], stratify=final_df['target'])\n",
    "X_train.head(4)"
   ]
  },
  {
   "cell_type": "code",
   "execution_count": 32,
   "metadata": {},
   "outputs": [],
   "source": [
    "model.fit(X_train,y_train)\n",
    "y_pred = model.predict(X_test)\n",
    "score_pred = model.predict_proba(X_test)[:,1]"
   ]
  },
  {
   "cell_type": "code",
   "execution_count": 33,
   "metadata": {},
   "outputs": [
    {
     "data": {
      "text/plain": [
       "0.9216589861751152"
      ]
     },
     "execution_count": 33,
     "metadata": {},
     "output_type": "execute_result"
    }
   ],
   "source": [
    "accuracy_score(y_test, y_pred)"
   ]
  },
  {
   "cell_type": "code",
   "execution_count": 34,
   "metadata": {},
   "outputs": [
    {
     "data": {
      "text/plain": [
       "array([[293,   4],\n",
       "       [ 30, 107]], dtype=int64)"
      ]
     },
     "execution_count": 34,
     "metadata": {},
     "output_type": "execute_result"
    }
   ],
   "source": [
    "confusion_matrix(y_test, y_pred)"
   ]
  },
  {
   "cell_type": "markdown",
   "metadata": {},
   "source": [
    "### Applying Lemmatization "
   ]
  },
  {
   "cell_type": "code",
   "execution_count": 35,
   "metadata": {},
   "outputs": [
    {
     "name": "stderr",
     "output_type": "stream",
     "text": [
      "[nltk_data] Downloading package punkt to C:\\Users\\Nicolas\n",
      "[nltk_data]     Ponte\\AppData\\Roaming\\nltk_data...\n",
      "[nltk_data]   Package punkt is already up-to-date!\n",
      "[nltk_data] Downloading package wordnet to C:\\Users\\Nicolas\n",
      "[nltk_data]     Ponte\\AppData\\Roaming\\nltk_data...\n",
      "[nltk_data]   Package wordnet is already up-to-date!\n"
     ]
    },
    {
     "data": {
      "text/plain": [
       "True"
      ]
     },
     "execution_count": 35,
     "metadata": {},
     "output_type": "execute_result"
    }
   ],
   "source": [
    "from nltk.stem import WordNetLemmatizer\n",
    "from nltk.tokenize import word_tokenize\n",
    "nltk.download('punkt')\n",
    "nltk.download('wordnet')"
   ]
  },
  {
   "cell_type": "code",
   "execution_count": 36,
   "metadata": {},
   "outputs": [],
   "source": [
    "#We need to use the final_df['titles'] to  lemmatize each word:\n",
    "lemmatizer = WordNetLemmatizer()"
   ]
  },
  {
   "cell_type": "code",
   "execution_count": 37,
   "metadata": {},
   "outputs": [],
   "source": [
    "#Function to apply for each word the proper lemmatization.\n",
    "def lemmetize_titles(words):\n",
    "    a = []\n",
    "    tokens = word_tokenize(words)\n",
    "    for token in tokens:\n",
    "        lemmetized_word = lemmatizer.lemmatize(token)\n",
    "        a.append(lemmetized_word)\n",
    "    lemmatized_title = ' '.join(a)\n",
    "    return lemmatized_title "
   ]
  },
  {
   "cell_type": "code",
   "execution_count": 38,
   "metadata": {},
   "outputs": [],
   "source": [
    "final_df['lemmetized_titles'] = final_df['titles'].apply(lemmetize_titles)"
   ]
  },
  {
   "cell_type": "code",
   "execution_count": 39,
   "metadata": {},
   "outputs": [
    {
     "data": {
      "text/plain": [
       "1580    u funeral home owner sold body part pleads gui...\n",
       "404     miami 44 demon gangster gloated instagram crim...\n",
       "1315    voyager seek bankruptcy crypto mogul lifeline ...\n",
       "62      elon musk face 258bn lawsuit dogecoin doge pro...\n",
       "Name: lemmetized_titles, dtype: object"
      ]
     },
     "execution_count": 39,
     "metadata": {},
     "output_type": "execute_result"
    }
   ],
   "source": [
    "X_train, X_test, y_train, y_test = train_test_split(final_df['lemmetized_titles'],final_df['target'], stratify=final_df['target'])\n",
    "X_train.head(4)"
   ]
  },
  {
   "cell_type": "code",
   "execution_count": 40,
   "metadata": {},
   "outputs": [],
   "source": [
    "model.fit(X_train,y_train)\n",
    "y_pred = model.predict(X_test)\n",
    "score_pred = model.predict_proba(X_test)[:,1]"
   ]
  },
  {
   "cell_type": "markdown",
   "metadata": {},
   "source": [
    "### Train Set Scores "
   ]
  },
  {
   "cell_type": "code",
   "execution_count": 50,
   "metadata": {},
   "outputs": [],
   "source": [
    "y_train_pred = model.predict(X_train)"
   ]
  },
  {
   "cell_type": "code",
   "execution_count": 51,
   "metadata": {},
   "outputs": [
    {
     "data": {
      "text/plain": [
       "0.9784449576597383"
      ]
     },
     "execution_count": 51,
     "metadata": {},
     "output_type": "execute_result"
    }
   ],
   "source": [
    "accuracy_score(y_train, y_train_pred)"
   ]
  },
  {
   "cell_type": "code",
   "execution_count": 52,
   "metadata": {},
   "outputs": [
    {
     "data": {
      "text/plain": [
       "0.9847328244274809"
      ]
     },
     "execution_count": 52,
     "metadata": {},
     "output_type": "execute_result"
    }
   ],
   "source": [
    "precision_score(y_train, y_train_pred)"
   ]
  },
  {
   "cell_type": "code",
   "execution_count": 53,
   "metadata": {},
   "outputs": [
    {
     "data": {
      "text/plain": [
       "0.9462102689486552"
      ]
     },
     "execution_count": 53,
     "metadata": {},
     "output_type": "execute_result"
    }
   ],
   "source": [
    "recall_score(y_train, y_train_pred)"
   ]
  },
  {
   "cell_type": "code",
   "execution_count": 54,
   "metadata": {},
   "outputs": [
    {
     "data": {
      "text/plain": [
       "0.9650872817955112"
      ]
     },
     "execution_count": 54,
     "metadata": {},
     "output_type": "execute_result"
    }
   ],
   "source": [
    "f1_score(y_train, y_train_pred)"
   ]
  },
  {
   "cell_type": "code",
   "execution_count": 55,
   "metadata": {},
   "outputs": [
    {
     "data": {
      "text/plain": [
       "0.9697343479574736"
      ]
     },
     "execution_count": 55,
     "metadata": {},
     "output_type": "execute_result"
    }
   ],
   "source": [
    "roc_auc_score(y_train, y_train_pred)"
   ]
  },
  {
   "cell_type": "markdown",
   "metadata": {},
   "source": [
    "### Test Set Scores "
   ]
  },
  {
   "cell_type": "code",
   "execution_count": 41,
   "metadata": {},
   "outputs": [
    {
     "data": {
      "text/plain": [
       "0.9170506912442397"
      ]
     },
     "execution_count": 41,
     "metadata": {},
     "output_type": "execute_result"
    }
   ],
   "source": [
    "accuracy_score(y_test, y_pred)"
   ]
  },
  {
   "cell_type": "code",
   "execution_count": 46,
   "metadata": {},
   "outputs": [
    {
     "data": {
      "text/plain": [
       "0.9809523809523809"
      ]
     },
     "execution_count": 46,
     "metadata": {},
     "output_type": "execute_result"
    }
   ],
   "source": [
    "precision_score(y_test, y_pred)"
   ]
  },
  {
   "cell_type": "code",
   "execution_count": 45,
   "metadata": {},
   "outputs": [
    {
     "data": {
      "text/plain": [
       "0.7518248175182481"
      ]
     },
     "execution_count": 45,
     "metadata": {},
     "output_type": "execute_result"
    }
   ],
   "source": [
    "recall_score(y_test, y_pred)"
   ]
  },
  {
   "cell_type": "code",
   "execution_count": 44,
   "metadata": {},
   "outputs": [
    {
     "data": {
      "text/plain": [
       "0.8512396694214875"
      ]
     },
     "execution_count": 44,
     "metadata": {},
     "output_type": "execute_result"
    }
   ],
   "source": [
    "f1_score(y_test, y_pred)"
   ]
  },
  {
   "cell_type": "code",
   "execution_count": 47,
   "metadata": {},
   "outputs": [
    {
     "data": {
      "text/plain": [
       "0.8725454053921208"
      ]
     },
     "execution_count": 47,
     "metadata": {},
     "output_type": "execute_result"
    }
   ],
   "source": [
    "roc_auc_score(y_test, y_pred)"
   ]
  },
  {
   "cell_type": "code",
   "execution_count": 49,
   "metadata": {},
   "outputs": [
    {
     "data": {
      "text/plain": [
       "array([[295,   2],\n",
       "       [ 34, 103]], dtype=int64)"
      ]
     },
     "execution_count": 49,
     "metadata": {},
     "output_type": "execute_result"
    }
   ],
   "source": [
    "confusion_matrix(y_test, y_pred)"
   ]
  },
  {
   "cell_type": "code",
   "execution_count": 42,
   "metadata": {},
   "outputs": [],
   "source": [
    "#Let's store the model for later use:\n",
    "import pickle\n",
    "pickle.dump(model, open('SimpleRelScoreModel.sav', 'wb'))"
   ]
  },
  {
   "cell_type": "markdown",
   "metadata": {},
   "source": [
    "## Extracting News from GDELT and testing our Strength Score Model"
   ]
  },
  {
   "cell_type": "code",
   "execution_count": 87,
   "metadata": {},
   "outputs": [],
   "source": [
    "#!pip install gdeltdoc\n",
    "from datetime import date, timedelta \n",
    "from gdeltdoc import GdeltDoc, Filters"
   ]
  },
  {
   "cell_type": "code",
   "execution_count": 88,
   "metadata": {},
   "outputs": [],
   "source": [
    "def return_news_list(key_word_term, days_before):\n",
    "    \"\"\"\n",
    "    \n",
    "    \"\"\"\n",
    "    \n",
    "    currentday = date.today()- timedelta(days=days_before)\n",
    "    daybefore = currentday - timedelta(days=1)\n",
    "    start_date = daybefore.strftime(\"%Y-%m-%d\")\n",
    "    end_date = currentday.strftime(\"%Y-%m-%d\")\n",
    "    \n",
    "    f = Filters(\n",
    "        keyword = key_word_term,\n",
    "        start_date = str(start_date),\n",
    "        end_date = str(end_date)\n",
    "    )\n",
    "\n",
    "    gd = GdeltDoc()\n",
    "\n",
    "    # Search for articles matching the filters\n",
    "    articles = gd.article_search(f)\n",
    "    df = articles[(articles[\"language\"] == 'English')]\n",
    "    df.reset_index(inplace=True,drop=True)\n",
    "    \n",
    "    return df"
   ]
  },
  {
   "cell_type": "code",
   "execution_count": 89,
   "metadata": {},
   "outputs": [],
   "source": [
    "#Checking the function\n",
    "df = return_news_list(\"bitcoin\", 5)"
   ]
  },
  {
   "cell_type": "code",
   "execution_count": 90,
   "metadata": {},
   "outputs": [
    {
     "data": {
      "text/html": [
       "<div>\n",
       "<style scoped>\n",
       "    .dataframe tbody tr th:only-of-type {\n",
       "        vertical-align: middle;\n",
       "    }\n",
       "\n",
       "    .dataframe tbody tr th {\n",
       "        vertical-align: top;\n",
       "    }\n",
       "\n",
       "    .dataframe thead th {\n",
       "        text-align: right;\n",
       "    }\n",
       "</style>\n",
       "<table border=\"1\" class=\"dataframe\">\n",
       "  <thead>\n",
       "    <tr style=\"text-align: right;\">\n",
       "      <th></th>\n",
       "      <th>url</th>\n",
       "      <th>url_mobile</th>\n",
       "      <th>title</th>\n",
       "      <th>seendate</th>\n",
       "      <th>socialimage</th>\n",
       "      <th>domain</th>\n",
       "      <th>language</th>\n",
       "      <th>sourcecountry</th>\n",
       "    </tr>\n",
       "  </thead>\n",
       "  <tbody>\n",
       "    <tr>\n",
       "      <th>0</th>\n",
       "      <td>https://www.prnewswire.com:443/news-releases/b...</td>\n",
       "      <td></td>\n",
       "      <td>Bitcoin Depot Launches  BDCheckout</td>\n",
       "      <td>20220630T173000Z</td>\n",
       "      <td></td>\n",
       "      <td>prnewswire.com</td>\n",
       "      <td>English</td>\n",
       "      <td>United States</td>\n",
       "    </tr>\n",
       "    <tr>\n",
       "      <th>1</th>\n",
       "      <td>https://www.prnewswire.com/news-releases/bitco...</td>\n",
       "      <td></td>\n",
       "      <td>Bitcoin Depot Launches  BDCheckout</td>\n",
       "      <td>20220630T174500Z</td>\n",
       "      <td></td>\n",
       "      <td>prnewswire.com</td>\n",
       "      <td>English</td>\n",
       "      <td>United States</td>\n",
       "    </tr>\n",
       "    <tr>\n",
       "      <th>2</th>\n",
       "      <td>https://www.today.ng/business/cryptocurrency/s...</td>\n",
       "      <td>https://www.today.ng/business/cryptocurrency/s...</td>\n",
       "      <td>New spot Bitcoin ETF launched at Euronext Amst...</td>\n",
       "      <td>20220630T114500Z</td>\n",
       "      <td>https://www.today.ng/wp-content/uploads/2022/0...</td>\n",
       "      <td>today.ng</td>\n",
       "      <td>English</td>\n",
       "      <td>Nigeria</td>\n",
       "    </tr>\n",
       "    <tr>\n",
       "      <th>3</th>\n",
       "      <td>https://www.forbes.com/sites/rufaskamau/2022/0...</td>\n",
       "      <td>https://www.forbes.com/sites/rufaskamau/2022/0...</td>\n",
       "      <td>Why Is The SEC Rejecting Grayscale Spot Bitcoi...</td>\n",
       "      <td>20220630T164500Z</td>\n",
       "      <td>https://imageio.forbes.com/specials-images/ima...</td>\n",
       "      <td>forbes.com</td>\n",
       "      <td>English</td>\n",
       "      <td>United States</td>\n",
       "    </tr>\n",
       "    <tr>\n",
       "      <th>4</th>\n",
       "      <td>https://www.washingtonpost.com/business/bitcoi...</td>\n",
       "      <td></td>\n",
       "      <td>Bitcoin Fair Value Is Tied to Gold and Tech St...</td>\n",
       "      <td>20220630T144500Z</td>\n",
       "      <td>https://arc-anglerfish-washpost-prod-washpost....</td>\n",
       "      <td>washingtonpost.com</td>\n",
       "      <td>English</td>\n",
       "      <td>United States</td>\n",
       "    </tr>\n",
       "  </tbody>\n",
       "</table>\n",
       "</div>"
      ],
      "text/plain": [
       "                                                 url  \\\n",
       "0  https://www.prnewswire.com:443/news-releases/b...   \n",
       "1  https://www.prnewswire.com/news-releases/bitco...   \n",
       "2  https://www.today.ng/business/cryptocurrency/s...   \n",
       "3  https://www.forbes.com/sites/rufaskamau/2022/0...   \n",
       "4  https://www.washingtonpost.com/business/bitcoi...   \n",
       "\n",
       "                                          url_mobile  \\\n",
       "0                                                      \n",
       "1                                                      \n",
       "2  https://www.today.ng/business/cryptocurrency/s...   \n",
       "3  https://www.forbes.com/sites/rufaskamau/2022/0...   \n",
       "4                                                      \n",
       "\n",
       "                                               title          seendate  \\\n",
       "0               Bitcoin Depot Launches  BDCheckout    20220630T173000Z   \n",
       "1               Bitcoin Depot Launches  BDCheckout    20220630T174500Z   \n",
       "2  New spot Bitcoin ETF launched at Euronext Amst...  20220630T114500Z   \n",
       "3  Why Is The SEC Rejecting Grayscale Spot Bitcoi...  20220630T164500Z   \n",
       "4  Bitcoin Fair Value Is Tied to Gold and Tech St...  20220630T144500Z   \n",
       "\n",
       "                                         socialimage              domain  \\\n",
       "0                                                         prnewswire.com   \n",
       "1                                                         prnewswire.com   \n",
       "2  https://www.today.ng/wp-content/uploads/2022/0...            today.ng   \n",
       "3  https://imageio.forbes.com/specials-images/ima...          forbes.com   \n",
       "4  https://arc-anglerfish-washpost-prod-washpost....  washingtonpost.com   \n",
       "\n",
       "  language  sourcecountry  \n",
       "0  English  United States  \n",
       "1  English  United States  \n",
       "2  English        Nigeria  \n",
       "3  English  United States  \n",
       "4  English  United States  "
      ]
     },
     "execution_count": 90,
     "metadata": {},
     "output_type": "execute_result"
    }
   ],
   "source": [
    "df.head()"
   ]
  },
  {
   "cell_type": "code",
   "execution_count": 91,
   "metadata": {},
   "outputs": [],
   "source": [
    "def calculate_strength_score(df,title_column,filter_positive=False):\n",
    "    \"\"\"\n",
    "    \n",
    "    \"\"\"\n",
    "    temp_df = df.copy()\n",
    "    temp_df['temp'] = temp_df[title_column].map(lambda x: x.lower())\n",
    "    temp_df['temp'] = temp_df['temp'].map(lambda x: re.sub('[^A-Za-z0-9]+', ' ', x))\n",
    "    temp_df['temp'] = remove_stop_words(temp_df['temp'])\n",
    "    temp_df['lemmetized_titles'] = temp_df['temp'].apply(lemmetize_titles)\n",
    "    \n",
    "    predicted_values = model.predict(temp_df['lemmetized_titles'])\n",
    "    predicted_scores = model.predict_proba(temp_df['lemmetized_titles'])[:,1]\n",
    "    df['Include'] = predicted_values\n",
    "    df['Relevance_Score'] = predicted_scores\n",
    "    \n",
    "    if filter_positive:\n",
    "        return_df = df[df['Relevance_Score']>0.5].copy()\n",
    "    else:\n",
    "        return_df = df.copy()\n",
    "    \n",
    "    return return_df    "
   ]
  },
  {
   "cell_type": "code",
   "execution_count": 92,
   "metadata": {},
   "outputs": [],
   "source": [
    "df_non_filtered = calculate_strength_score(df,'title',filter_positive=False)"
   ]
  },
  {
   "cell_type": "code",
   "execution_count": 93,
   "metadata": {},
   "outputs": [
    {
     "data": {
      "text/html": [
       "<div>\n",
       "<style scoped>\n",
       "    .dataframe tbody tr th:only-of-type {\n",
       "        vertical-align: middle;\n",
       "    }\n",
       "\n",
       "    .dataframe tbody tr th {\n",
       "        vertical-align: top;\n",
       "    }\n",
       "\n",
       "    .dataframe thead th {\n",
       "        text-align: right;\n",
       "    }\n",
       "</style>\n",
       "<table border=\"1\" class=\"dataframe\">\n",
       "  <thead>\n",
       "    <tr style=\"text-align: right;\">\n",
       "      <th></th>\n",
       "      <th>url</th>\n",
       "      <th>url_mobile</th>\n",
       "      <th>title</th>\n",
       "      <th>seendate</th>\n",
       "      <th>socialimage</th>\n",
       "      <th>domain</th>\n",
       "      <th>language</th>\n",
       "      <th>sourcecountry</th>\n",
       "      <th>Include</th>\n",
       "      <th>Relevance_Score</th>\n",
       "    </tr>\n",
       "  </thead>\n",
       "  <tbody>\n",
       "    <tr>\n",
       "      <th>0</th>\n",
       "      <td>https://www.prnewswire.com:443/news-releases/b...</td>\n",
       "      <td></td>\n",
       "      <td>Bitcoin Depot Launches  BDCheckout</td>\n",
       "      <td>20220630T173000Z</td>\n",
       "      <td></td>\n",
       "      <td>prnewswire.com</td>\n",
       "      <td>English</td>\n",
       "      <td>United States</td>\n",
       "      <td>1.0</td>\n",
       "      <td>0.885419</td>\n",
       "    </tr>\n",
       "    <tr>\n",
       "      <th>1</th>\n",
       "      <td>https://www.prnewswire.com/news-releases/bitco...</td>\n",
       "      <td></td>\n",
       "      <td>Bitcoin Depot Launches  BDCheckout</td>\n",
       "      <td>20220630T174500Z</td>\n",
       "      <td></td>\n",
       "      <td>prnewswire.com</td>\n",
       "      <td>English</td>\n",
       "      <td>United States</td>\n",
       "      <td>1.0</td>\n",
       "      <td>0.885419</td>\n",
       "    </tr>\n",
       "    <tr>\n",
       "      <th>2</th>\n",
       "      <td>https://www.today.ng/business/cryptocurrency/s...</td>\n",
       "      <td>https://www.today.ng/business/cryptocurrency/s...</td>\n",
       "      <td>New spot Bitcoin ETF launched at Euronext Amst...</td>\n",
       "      <td>20220630T114500Z</td>\n",
       "      <td>https://www.today.ng/wp-content/uploads/2022/0...</td>\n",
       "      <td>today.ng</td>\n",
       "      <td>English</td>\n",
       "      <td>Nigeria</td>\n",
       "      <td>1.0</td>\n",
       "      <td>0.637035</td>\n",
       "    </tr>\n",
       "    <tr>\n",
       "      <th>3</th>\n",
       "      <td>https://www.forbes.com/sites/rufaskamau/2022/0...</td>\n",
       "      <td>https://www.forbes.com/sites/rufaskamau/2022/0...</td>\n",
       "      <td>Why Is The SEC Rejecting Grayscale Spot Bitcoi...</td>\n",
       "      <td>20220630T164500Z</td>\n",
       "      <td>https://imageio.forbes.com/specials-images/ima...</td>\n",
       "      <td>forbes.com</td>\n",
       "      <td>English</td>\n",
       "      <td>United States</td>\n",
       "      <td>1.0</td>\n",
       "      <td>0.689224</td>\n",
       "    </tr>\n",
       "    <tr>\n",
       "      <th>4</th>\n",
       "      <td>https://www.washingtonpost.com/business/bitcoi...</td>\n",
       "      <td></td>\n",
       "      <td>Bitcoin Fair Value Is Tied to Gold and Tech St...</td>\n",
       "      <td>20220630T144500Z</td>\n",
       "      <td>https://arc-anglerfish-washpost-prod-washpost....</td>\n",
       "      <td>washingtonpost.com</td>\n",
       "      <td>English</td>\n",
       "      <td>United States</td>\n",
       "      <td>0.0</td>\n",
       "      <td>0.279323</td>\n",
       "    </tr>\n",
       "  </tbody>\n",
       "</table>\n",
       "</div>"
      ],
      "text/plain": [
       "                                                 url  \\\n",
       "0  https://www.prnewswire.com:443/news-releases/b...   \n",
       "1  https://www.prnewswire.com/news-releases/bitco...   \n",
       "2  https://www.today.ng/business/cryptocurrency/s...   \n",
       "3  https://www.forbes.com/sites/rufaskamau/2022/0...   \n",
       "4  https://www.washingtonpost.com/business/bitcoi...   \n",
       "\n",
       "                                          url_mobile  \\\n",
       "0                                                      \n",
       "1                                                      \n",
       "2  https://www.today.ng/business/cryptocurrency/s...   \n",
       "3  https://www.forbes.com/sites/rufaskamau/2022/0...   \n",
       "4                                                      \n",
       "\n",
       "                                               title          seendate  \\\n",
       "0               Bitcoin Depot Launches  BDCheckout    20220630T173000Z   \n",
       "1               Bitcoin Depot Launches  BDCheckout    20220630T174500Z   \n",
       "2  New spot Bitcoin ETF launched at Euronext Amst...  20220630T114500Z   \n",
       "3  Why Is The SEC Rejecting Grayscale Spot Bitcoi...  20220630T164500Z   \n",
       "4  Bitcoin Fair Value Is Tied to Gold and Tech St...  20220630T144500Z   \n",
       "\n",
       "                                         socialimage              domain  \\\n",
       "0                                                         prnewswire.com   \n",
       "1                                                         prnewswire.com   \n",
       "2  https://www.today.ng/wp-content/uploads/2022/0...            today.ng   \n",
       "3  https://imageio.forbes.com/specials-images/ima...          forbes.com   \n",
       "4  https://arc-anglerfish-washpost-prod-washpost....  washingtonpost.com   \n",
       "\n",
       "  language  sourcecountry  Include  Relevance_Score  \n",
       "0  English  United States      1.0         0.885419  \n",
       "1  English  United States      1.0         0.885419  \n",
       "2  English        Nigeria      1.0         0.637035  \n",
       "3  English  United States      1.0         0.689224  \n",
       "4  English  United States      0.0         0.279323  "
      ]
     },
     "execution_count": 93,
     "metadata": {},
     "output_type": "execute_result"
    }
   ],
   "source": [
    "df_non_filtered.head()"
   ]
  },
  {
   "cell_type": "code",
   "execution_count": 94,
   "metadata": {},
   "outputs": [],
   "source": [
    "#df_non_filtered.to_csv('all_news.csv')"
   ]
  },
  {
   "cell_type": "code",
   "execution_count": 95,
   "metadata": {},
   "outputs": [],
   "source": [
    "df_filtered = calculate_strength_score(df,'title',filter_positive=True)"
   ]
  },
  {
   "cell_type": "code",
   "execution_count": 96,
   "metadata": {},
   "outputs": [
    {
     "data": {
      "text/html": [
       "<div>\n",
       "<style scoped>\n",
       "    .dataframe tbody tr th:only-of-type {\n",
       "        vertical-align: middle;\n",
       "    }\n",
       "\n",
       "    .dataframe tbody tr th {\n",
       "        vertical-align: top;\n",
       "    }\n",
       "\n",
       "    .dataframe thead th {\n",
       "        text-align: right;\n",
       "    }\n",
       "</style>\n",
       "<table border=\"1\" class=\"dataframe\">\n",
       "  <thead>\n",
       "    <tr style=\"text-align: right;\">\n",
       "      <th></th>\n",
       "      <th>url</th>\n",
       "      <th>url_mobile</th>\n",
       "      <th>title</th>\n",
       "      <th>seendate</th>\n",
       "      <th>socialimage</th>\n",
       "      <th>domain</th>\n",
       "      <th>language</th>\n",
       "      <th>sourcecountry</th>\n",
       "      <th>Include</th>\n",
       "      <th>Relevance_Score</th>\n",
       "    </tr>\n",
       "  </thead>\n",
       "  <tbody>\n",
       "    <tr>\n",
       "      <th>0</th>\n",
       "      <td>https://www.prnewswire.com:443/news-releases/b...</td>\n",
       "      <td></td>\n",
       "      <td>Bitcoin Depot Launches  BDCheckout</td>\n",
       "      <td>20220630T173000Z</td>\n",
       "      <td></td>\n",
       "      <td>prnewswire.com</td>\n",
       "      <td>English</td>\n",
       "      <td>United States</td>\n",
       "      <td>1.0</td>\n",
       "      <td>0.885419</td>\n",
       "    </tr>\n",
       "    <tr>\n",
       "      <th>1</th>\n",
       "      <td>https://www.prnewswire.com/news-releases/bitco...</td>\n",
       "      <td></td>\n",
       "      <td>Bitcoin Depot Launches  BDCheckout</td>\n",
       "      <td>20220630T174500Z</td>\n",
       "      <td></td>\n",
       "      <td>prnewswire.com</td>\n",
       "      <td>English</td>\n",
       "      <td>United States</td>\n",
       "      <td>1.0</td>\n",
       "      <td>0.885419</td>\n",
       "    </tr>\n",
       "    <tr>\n",
       "      <th>2</th>\n",
       "      <td>https://www.today.ng/business/cryptocurrency/s...</td>\n",
       "      <td>https://www.today.ng/business/cryptocurrency/s...</td>\n",
       "      <td>New spot Bitcoin ETF launched at Euronext Amst...</td>\n",
       "      <td>20220630T114500Z</td>\n",
       "      <td>https://www.today.ng/wp-content/uploads/2022/0...</td>\n",
       "      <td>today.ng</td>\n",
       "      <td>English</td>\n",
       "      <td>Nigeria</td>\n",
       "      <td>1.0</td>\n",
       "      <td>0.637035</td>\n",
       "    </tr>\n",
       "    <tr>\n",
       "      <th>3</th>\n",
       "      <td>https://www.forbes.com/sites/rufaskamau/2022/0...</td>\n",
       "      <td>https://www.forbes.com/sites/rufaskamau/2022/0...</td>\n",
       "      <td>Why Is The SEC Rejecting Grayscale Spot Bitcoi...</td>\n",
       "      <td>20220630T164500Z</td>\n",
       "      <td>https://imageio.forbes.com/specials-images/ima...</td>\n",
       "      <td>forbes.com</td>\n",
       "      <td>English</td>\n",
       "      <td>United States</td>\n",
       "      <td>1.0</td>\n",
       "      <td>0.689224</td>\n",
       "    </tr>\n",
       "    <tr>\n",
       "      <th>5</th>\n",
       "      <td>https://cointelegraph.com/news/new-spot-bitcoi...</td>\n",
       "      <td>https://cointelegraph.com/news/new-spot-bitcoi...</td>\n",
       "      <td>New spot Bitcoin ETF launched at Euronext Amst...</td>\n",
       "      <td>20220630T111500Z</td>\n",
       "      <td>https://images.cointelegraph.com/images/1200_a...</td>\n",
       "      <td>cointelegraph.com</td>\n",
       "      <td>English</td>\n",
       "      <td>China</td>\n",
       "      <td>1.0</td>\n",
       "      <td>0.637035</td>\n",
       "    </tr>\n",
       "  </tbody>\n",
       "</table>\n",
       "</div>"
      ],
      "text/plain": [
       "                                                 url  \\\n",
       "0  https://www.prnewswire.com:443/news-releases/b...   \n",
       "1  https://www.prnewswire.com/news-releases/bitco...   \n",
       "2  https://www.today.ng/business/cryptocurrency/s...   \n",
       "3  https://www.forbes.com/sites/rufaskamau/2022/0...   \n",
       "5  https://cointelegraph.com/news/new-spot-bitcoi...   \n",
       "\n",
       "                                          url_mobile  \\\n",
       "0                                                      \n",
       "1                                                      \n",
       "2  https://www.today.ng/business/cryptocurrency/s...   \n",
       "3  https://www.forbes.com/sites/rufaskamau/2022/0...   \n",
       "5  https://cointelegraph.com/news/new-spot-bitcoi...   \n",
       "\n",
       "                                               title          seendate  \\\n",
       "0               Bitcoin Depot Launches  BDCheckout    20220630T173000Z   \n",
       "1               Bitcoin Depot Launches  BDCheckout    20220630T174500Z   \n",
       "2  New spot Bitcoin ETF launched at Euronext Amst...  20220630T114500Z   \n",
       "3  Why Is The SEC Rejecting Grayscale Spot Bitcoi...  20220630T164500Z   \n",
       "5  New spot Bitcoin ETF launched at Euronext Amst...  20220630T111500Z   \n",
       "\n",
       "                                         socialimage             domain  \\\n",
       "0                                                        prnewswire.com   \n",
       "1                                                        prnewswire.com   \n",
       "2  https://www.today.ng/wp-content/uploads/2022/0...           today.ng   \n",
       "3  https://imageio.forbes.com/specials-images/ima...         forbes.com   \n",
       "5  https://images.cointelegraph.com/images/1200_a...  cointelegraph.com   \n",
       "\n",
       "  language  sourcecountry  Include  Relevance_Score  \n",
       "0  English  United States      1.0         0.885419  \n",
       "1  English  United States      1.0         0.885419  \n",
       "2  English        Nigeria      1.0         0.637035  \n",
       "3  English  United States      1.0         0.689224  \n",
       "5  English          China      1.0         0.637035  "
      ]
     },
     "execution_count": 96,
     "metadata": {},
     "output_type": "execute_result"
    }
   ],
   "source": [
    "df_filtered.head()"
   ]
  },
  {
   "cell_type": "code",
   "execution_count": 97,
   "metadata": {},
   "outputs": [],
   "source": [
    "#df_filtered.to_csv('relevant_news.csv')"
   ]
  },
  {
   "cell_type": "code",
   "execution_count": 98,
   "metadata": {},
   "outputs": [],
   "source": [
    "#df_filtered[['title','Relevance_Score','seendate']]"
   ]
  },
  {
   "cell_type": "code",
   "execution_count": null,
   "metadata": {},
   "outputs": [],
   "source": []
  },
  {
   "cell_type": "code",
   "execution_count": null,
   "metadata": {},
   "outputs": [],
   "source": []
  }
 ],
 "metadata": {
  "kernelspec": {
   "display_name": "Python 3",
   "language": "python",
   "name": "python3"
  },
  "language_info": {
   "codemirror_mode": {
    "name": "ipython",
    "version": 3
   },
   "file_extension": ".py",
   "mimetype": "text/x-python",
   "name": "python",
   "nbconvert_exporter": "python",
   "pygments_lexer": "ipython3",
   "version": "3.8.8"
  }
 },
 "nbformat": 4,
 "nbformat_minor": 4
}
